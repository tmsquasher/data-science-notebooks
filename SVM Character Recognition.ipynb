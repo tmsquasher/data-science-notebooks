{
 "metadata": {
  "name": ""
 },
 "nbformat": 3,
 "nbformat_minor": 0,
 "worksheets": [
  {
   "cells": [
    {
     "cell_type": "markdown",
     "metadata": {},
     "source": [
      "# SVM and Handwritten Digit Classification"
     ]
    },
    {
     "cell_type": "code",
     "collapsed": false,
     "input": [
      "%pylab inline\n",
      "import pandas as pd\n",
      "import numpy as np\n",
      "import scipy as sp\n",
      "import sklearn\n",
      "from sklearn import datasets\n",
      "from sklearn import svm\n",
      "from sklearn.cross_validation import train_test_split"
     ],
     "language": "python",
     "metadata": {},
     "outputs": [
      {
       "output_type": "stream",
       "stream": "stdout",
       "text": [
        "Populating the interactive namespace from numpy and matplotlib\n"
       ]
      },
      {
       "output_type": "stream",
       "stream": "stderr",
       "text": [
        "WARNING: pylab import has clobbered these variables: ['clf']\n",
        "`%pylab --no-import-all` prevents importing * from pylab and numpy\n"
       ]
      }
     ],
     "prompt_number": 94
    },
    {
     "cell_type": "markdown",
     "metadata": {},
     "source": [
      "## Load Training Dataset"
     ]
    },
    {
     "cell_type": "code",
     "collapsed": false,
     "input": [
      "# load dataset and description\n",
      "digits = datasets.load_digits()\n",
      "print digits.DESCR"
     ],
     "language": "python",
     "metadata": {},
     "outputs": [
      {
       "output_type": "stream",
       "stream": "stdout",
       "text": [
        " Optical Recognition of Handwritten Digits Data Set\n",
        "\n",
        "Notes\n",
        "-----\n",
        "Data Set Characteristics:\n",
        "    :Number of Instances: 5620\n",
        "    :Number of Attributes: 64\n",
        "    :Attribute Information: 8x8 image of integer pixels in the range 0..16.\n",
        "    :Missing Attribute Values: None\n",
        "    :Creator: E. Alpaydin (alpaydin '@' boun.edu.tr)\n",
        "    :Date: July; 1998\n",
        "\n",
        "This is a copy of the test set of the UCI ML hand-written digits datasets\n",
        "http://archive.ics.uci.edu/ml/datasets/Optical+Recognition+of+Handwritten+Digits\n",
        "\n",
        "The data set contains images of hand-written digits: 10 classes where\n",
        "each class refers to a digit.\n",
        "\n",
        "Preprocessing programs made available by NIST were used to extract\n",
        "normalized bitmaps of handwritten digits from a preprinted form. From a\n",
        "total of 43 people, 30 contributed to the training set and different 13\n",
        "to the test set. 32x32 bitmaps are divided into nonoverlapping blocks of\n",
        "4x4 and the number of on pixels are counted in each block. This generates\n",
        "an input matrix of 8x8 where each element is an integer in the range\n",
        "0..16. This reduces dimensionality and gives invariance to small\n",
        "distortions.\n",
        "\n",
        "For info on NIST preprocessing routines, see M. D. Garris, J. L. Blue, G.\n",
        "T. Candela, D. L. Dimmick, J. Geist, P. J. Grother, S. A. Janet, and C.\n",
        "L. Wilson, NIST Form-Based Handprint Recognition System, NISTIR 5469,\n",
        "1994.\n",
        "\n",
        "References\n",
        "----------\n",
        "  - C. Kaynak (1995) Methods of Combining Multiple Classifiers and Their\n",
        "    Applications to Handwritten Digit Recognition, MSc Thesis, Institute of\n",
        "    Graduate Studies in Science and Engineering, Bogazici University.\n",
        "  - E. Alpaydin, C. Kaynak (1998) Cascading Classifiers, Kybernetika.\n",
        "  - Ken Tang and Ponnuthurai N. Suganthan and Xi Yao and A. Kai Qin.\n",
        "    Linear dimensionalityreduction using relevance weighted LDA. School of\n",
        "    Electrical and Electronic Engineering Nanyang Technological University.\n",
        "    2005.\n",
        "  - Claudio Gentile. A New Approximate Maximal Margin Classification\n",
        "    Algorithm. NIPS. 2000.\n",
        "\n"
       ]
      }
     ],
     "prompt_number": 13
    },
    {
     "cell_type": "code",
     "collapsed": false,
     "input": [
      "# visual of one sample\n",
      "plt.figure(1, figsize=(3,3))\n",
      "plt.imshow(digits.images[-1], cmap='gray', interpolation='nearest')\n",
      "digits.keys()"
     ],
     "language": "python",
     "metadata": {},
     "outputs": [
      {
       "metadata": {},
       "output_type": "pyout",
       "prompt_number": 9,
       "text": [
        "['images', 'data', 'target_names', 'DESCR', 'target']"
       ]
      },
      {
       "metadata": {},
       "output_type": "display_data",
       "png": "[encoded data removed]",
       "text": [
        "<matplotlib.figure.Figure at 0x10ea34350>"
       ]
      }
     ],
     "prompt_number": 9
    },
    {
     "cell_type": "markdown",
     "metadata": {},
     "source": [
      "## Split Data, Train SVM, and Test Accuracy"
     ]
    },
    {
     "cell_type": "code",
     "collapsed": false,
     "input": [
      "# split test and training data\n",
      "X = digits.data\n",
      "y = digits.target\n",
      "X_train, X_test, y_train, y_test = train_test_split(X, y, test_size=0.25)\n",
      "print 'X_train:', shape(X_train)\n",
      "print 'X_test:', shape(X_test)\n",
      "print 'y_train:', shape(y_train)\n",
      "print 'y_test:', shape(y_test)"
     ],
     "language": "python",
     "metadata": {},
     "outputs": [
      {
       "output_type": "stream",
       "stream": "stdout",
       "text": [
        "X_train: (1347, 64)\n",
        "X_test: (450, 64)\n",
        "y_train: (1347,)\n",
        "y_test: (450,)\n"
       ]
      }
     ],
     "prompt_number": 66
    },
    {
     "cell_type": "code",
     "collapsed": false,
     "input": [
      "# train classifier with best parameters\n",
      "# hyper-parameters using rbf kernel:\n",
      "# C: regularization penalty for the error term\n",
      "# gamma: kernel coefficient\n",
      "\n",
      "c_params = [1.0, 10, 100]\n",
      "g_params = [0, 0.0001, 0.001, 0.1, 1.0]\n",
      "\n",
      "c_best = None\n",
      "g_best = None\n",
      "best_accuracy = -np.inf\n",
      "\n",
      "for c in c_params:\n",
      "    for g in g_params:\n",
      "        clf = svm.SVC(C=c, gamma=g)\n",
      "        clf.fit(X_train, y_train)\n",
      "        accuracy = clf.score(X_test, y_test)\n",
      "        if accuracy > best_accuracy:\n",
      "            best_accuracy = accuracy\n",
      "            c_best = c\n",
      "            g_best = g\n",
      "\n",
      "print 'Best C, gamma, and accuracy on test set:', c_best, g_best, best_accuracy"
     ],
     "language": "python",
     "metadata": {},
     "outputs": [
      {
       "output_type": "stream",
       "stream": "stdout",
       "text": [
        "Best C, gamma, and accuracy on test set: 1.0 0.001 0.988888888889\n"
       ]
      }
     ],
     "prompt_number": 106
    },
    {
     "cell_type": "code",
     "collapsed": false,
     "input": [
      "# create best classifier\n",
      "clf = svm.SVC(C=c_best, gamma=g_best, probability=True)\n",
      "clf.fit(X_train, y_train)"
     ],
     "language": "python",
     "metadata": {},
     "outputs": [
      {
       "metadata": {},
       "output_type": "pyout",
       "prompt_number": 107,
       "text": [
        "SVC(C=1.0, cache_size=200, class_weight=None, coef0=0.0, degree=3,\n",
        "  gamma=0.001, kernel='rbf', max_iter=-1, probability=True,\n",
        "  random_state=None, shrinking=True, tol=0.001, verbose=False)"
       ]
      }
     ],
     "prompt_number": 107
    },
    {
     "cell_type": "markdown",
     "metadata": {},
     "source": [
      "## Examine Weak Spots"
     ]
    },
    {
     "cell_type": "code",
     "collapsed": false,
     "input": [
      "# let's find the ones we were most unsure about\n",
      "min_diff = 1.0\n",
      "min_idx = 0\n",
      "\n",
      "pr_proba = clf.predict_proba(digits.data)\n",
      "for idx in xrange(len(digits.data)):\n",
      "    # predict and get difference b/t two best guesses\n",
      "    predicted = pr_proba[idx]\n",
      "    ranked = sorted(zip(digits.target_names, predicted), key=lambda x: -x[1])\n",
      "    diff = ranked[0][1] - ranked[1][1]\n",
      "    \n",
      "    if diff < min_diff:\n",
      "        min_diff = diff\n",
      "        min_idx = idx\n",
      "\n",
      "plt.figure(figsize=(3,3))\n",
      "plt.imshow(digits.images[min_idx], interpolation='nearest', cmap='gray')\n",
      "print 'Best guesses:', sorted(zip(digits.target_names, pr_proba[min_idx]), key=lambda x: -x[1])[:3]\n",
      "print 'Actual:', digits.target[min_idx]"
     ],
     "language": "python",
     "metadata": {},
     "outputs": [
      {
       "output_type": "stream",
       "stream": "stdout",
       "text": [
        "Best guesses: [(9, 0.35379250462322098), (4, 0.34231733597566466), (8, 0.12534057236699286)]\n",
        "Actual: 4\n"
       ]
      },
      {
       "metadata": {},
       "output_type": "display_data",
       "png": "[encoded data removed]",
       "text": [
        "<matplotlib.figure.Figure at 0x11168f310>"
       ]
      }
     ],
     "prompt_number": 174
    },
    {
     "cell_type": "markdown",
     "metadata": {},
     "source": [
      "## Try with My Own Images"
     ]
    },
    {
     "cell_type": "code",
     "collapsed": false,
     "input": [
      "# 8x8 16-bit bitmap created in Photoshop\n",
      "raw = plt.imread('test_5.bmp')\n",
      "print 'raw shape (h, w, depth):', np.shape(raw)"
     ],
     "language": "python",
     "metadata": {},
     "outputs": [
      {
       "output_type": "stream",
       "stream": "stdout",
       "text": [
        "raw shape (h, w, depth): (8, 8, 3)\n"
       ]
      }
     ],
     "prompt_number": 137
    },
    {
     "cell_type": "code",
     "collapsed": false,
     "input": [
      "# remove extra (r, g, b) depth; convert to grayscale\n",
      "grayscale = []\n",
      "for x in xrange(len(raw)):\n",
      "    for y in xrange(len(raw[0])):\n",
      "        grayscale.append(15 - raw[x][y][0] / 16) # scale down to 0-15 and invert\n",
      "grayscale = np.array(grayscale)\n",
      "plt.figure(figsize=(3,3))\n",
      "plt.imshow(grayscale.reshape((8, 8)), interpolation='nearest', cmap='gray')"
     ],
     "language": "python",
     "metadata": {},
     "outputs": [
      {
       "metadata": {},
       "output_type": "pyout",
       "prompt_number": 175,
       "text": [
        "<matplotlib.image.AxesImage at 0x11191f290>"
       ]
      },
      {
       "metadata": {},
       "output_type": "display_data",
       "png": "[encoded data removed]",
       "text": [
        "<matplotlib.figure.Figure at 0x1116aae50>"
       ]
      }
     ],
     "prompt_number": 175
    },
    {
     "cell_type": "code",
     "collapsed": false,
     "input": [
      "print 'Best guesses:', sorted(zip(digits.target_names, clf.predict_proba(grayscale)[0]), key=lambda x: -x[1])[:3]"
     ],
     "language": "python",
     "metadata": {},
     "outputs": [
      {
       "output_type": "stream",
       "stream": "stdout",
       "text": [
        "Best guesses: [(9, 0.33818331813821606), (5, 0.21056614805364704), (4, 0.074803311711481982)]\n"
       ]
      }
     ],
     "prompt_number": 173
    },
    {
     "cell_type": "markdown",
     "metadata": {},
     "source": [
      "**Thoughts: The debate between '9' and '5' here is a neat reflection on the fact that this classifier was trained on HANDWRITTEN images, not the kind of 'pixel-perfect' computerized image I made for this example. Handwritten 9's often do have that gap in the top-right, so I think it's a pretty reasonable choice. Just as with the '4' above, it can be awfully hard to tell the difference between 4's, 5's and 9's with varying gap sizes.**\n",
      "\n",
      "**Below, I'll try the same procedure with an image created using Photoshop's brush tool, rather than the pencil tool, to give the image a more blurry, handwritten feel.**"
     ]
    },
    {
     "cell_type": "code",
     "collapsed": false,
     "input": [
      "raw2 = plt.imread('test_5_brush.bmp')\n",
      "grayscale2 = []\n",
      "for x in xrange(len(raw2)):\n",
      "    for y in xrange(len(raw2[0])):\n",
      "        grayscale2.append(15 - raw2[x][y][0] / 16) # scale down to 0-15 and invert\n",
      "grayscale2 = np.array(grayscale2)\n",
      "plt.figure(figsize=(3,3))\n",
      "plt.imshow(grayscale2.reshape((8, 8)), interpolation='nearest', cmap='gray')"
     ],
     "language": "python",
     "metadata": {},
     "outputs": [
      {
       "metadata": {},
       "output_type": "pyout",
       "prompt_number": 177,
       "text": [
        "<matplotlib.image.AxesImage at 0x1119555d0>"
       ]
      },
      {
       "metadata": {},
       "output_type": "display_data",
       "png": "[encoded data removed]",
       "text": [
        "<matplotlib.figure.Figure at 0x111932fd0>"
       ]
      }
     ],
     "prompt_number": 177
    },
    {
     "cell_type": "code",
     "collapsed": false,
     "input": [
      "print 'Best guesses:', sorted(zip(digits.target_names, clf.predict_proba(grayscale2)[0]), key=lambda x: -x[1])[:3]"
     ],
     "language": "python",
     "metadata": {},
     "outputs": [
      {
       "output_type": "stream",
       "stream": "stdout",
       "text": [
        "Best guesses: [(5, 0.3363736804361438), (8, 0.22937084437782154), (9, 0.13791748900012712)]\n"
       ]
      }
     ],
     "prompt_number": 178
    },
    {
     "cell_type": "markdown",
     "metadata": {},
     "source": [
      "** Well what do you know, it got it right! **"
     ]
    }
   ],
   "metadata": {}
  }
 ]
}